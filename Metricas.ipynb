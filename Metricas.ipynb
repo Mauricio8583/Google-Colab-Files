{
  "nbformat": 4,
  "nbformat_minor": 0,
  "metadata": {
    "colab": {
      "provenance": [],
      "authorship_tag": "ABX9TyMgdEM+OSMVrOocX8kWB+H8",
      "include_colab_link": true
    },
    "kernelspec": {
      "name": "python3",
      "display_name": "Python 3"
    },
    "language_info": {
      "name": "python"
    }
  },
  "cells": [
    {
      "cell_type": "markdown",
      "metadata": {
        "id": "view-in-github",
        "colab_type": "text"
      },
      "source": [
        "<a href=\"https://colab.research.google.com/github/Mauricio8583/Google-Colab-Files/blob/main/Metricas.ipynb\" target=\"_parent\"><img src=\"https://colab.research.google.com/assets/colab-badge.svg\" alt=\"Open In Colab\"/></a>"
      ]
    },
    {
      "cell_type": "code",
      "execution_count": null,
      "metadata": {
        "colab": {
          "base_uri": "https://localhost:8080/"
        },
        "id": "ZkbZ4QpUyo7m",
        "outputId": "6e43826b-04a3-49a1-f953-cf29c39fa60d"
      },
      "outputs": [
        {
          "output_type": "execute_result",
          "data": {
            "text/plain": [
              "array([[3, 2],\n",
              "       [4, 1]])"
            ]
          },
          "metadata": {},
          "execution_count": 2
        }
      ],
      "source": [
        "import numpy as np\n",
        "\n",
        "# valores, 1 para chover, 0 para não chover\n",
        "\n",
        "previsoes = [1, 0, 1, 0, 0, 0, 1, 0, 1, 0]\n",
        "real = [1, 0, 0, 1, 0, 0, 1, 1, 1, 0]\n",
        "\n",
        "def get_metrics(real, previsao, valores):\n",
        "  if len(valores) > 2:\n",
        "    return None\n",
        "  if len(real) != len(previsao):\n",
        "    return None\n",
        "\n",
        "  verdadeiros = valores[0]\n",
        "  falsos = valores[1]\n",
        "\n",
        "  vp = 0\n",
        "  vn = 0\n",
        "  fp = 0\n",
        "  fn = 0\n",
        "\n",
        "  for (indice, v_real) in enumerate(real):\n",
        "    v_previsao = previsao[indice]\n",
        "\n",
        "    if v_real == verdadeiros:\n",
        "      vp += 1 if v_previsao == v_real else 0\n",
        "      fp += 1 if v_previsao != v_real else 0\n",
        "    else:\n",
        "      vn += 1 if v_previsao == v_real else 0\n",
        "      fn += 1 if v_previsao != v_real else 0\n",
        "\n",
        "\n",
        "  return np.array([\n",
        "      [vp, fp],\n",
        "      [vn, fn]\n",
        "  ])\n",
        "\n",
        "get_metrics(real, previsoes, valores=[1, 0])\n",
        "\n",
        "# Sensibilidade 3/(3+1) = 0,75\n",
        "# Especificidade 4/(2+4) = 0,66\n",
        "# Acurácia (3+2)/(3+2+4+1) = 0,50\n",
        "# Precisão 3/(3+2) = 0,60\n",
        "# F-Score (0,60 * 0,75)/(0,60 + 0,75) * 2 = 0,66"
      ]
    }
  ]
}