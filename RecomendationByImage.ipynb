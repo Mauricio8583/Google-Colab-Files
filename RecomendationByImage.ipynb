{
  "nbformat": 4,
  "nbformat_minor": 0,
  "metadata": {
    "colab": {
      "provenance": [],
      "authorship_tag": "ABX9TyPxoz8b6XJFNqcyuSCGyP8v",
      "include_colab_link": true
    },
    "kernelspec": {
      "name": "python3",
      "display_name": "Python 3"
    },
    "language_info": {
      "name": "python"
    }
  },
  "cells": [
    {
      "cell_type": "markdown",
      "metadata": {
        "id": "view-in-github",
        "colab_type": "text"
      },
      "source": [
        "<a href=\"https://colab.research.google.com/github/Mauricio8583/Google-Colab-Files/blob/main/RecomendationByImage.ipynb\" target=\"_parent\"><img src=\"https://colab.research.google.com/assets/colab-badge.svg\" alt=\"Open In Colab\"/></a>"
      ]
    },
    {
      "cell_type": "code",
      "execution_count": null,
      "metadata": {
        "id": "Q-efXpjyJ8XF",
        "colab": {
          "base_uri": "https://localhost:8080/"
        },
        "outputId": "28d6c192-8f47-422c-a81f-f7533f2ecffa"
      },
      "outputs": [
        {
          "output_type": "stream",
          "name": "stdout",
          "text": [
            "Archive:  archive.zip\n",
            "  End-of-central-directory signature not found.  Either this file is not\n",
            "  a zipfile, or it constitutes one disk of a multi-part archive.  In the\n",
            "  latter case the central directory and zipfile comment will be found on\n",
            "  the last disk(s) of this archive.\n",
            "unzip:  cannot find zipfile directory in one of archive.zip or\n",
            "        archive.zip.zip, and cannot find archive.zip.ZIP, period.\n"
          ]
        }
      ],
      "source": [
        "import numpy as np\n",
        "import pandas as pd\n",
        "import matplotlib.pyplot as plt\n",
        "import seaborn as sns\n",
        "from keras.preprocessing.image import ImageDataGenerator\n",
        "from keras.models import Sequential\n",
        "from keras.layers import Dropout, Flatten, Dense\n",
        "from keras import applications\n",
        "from sklearn.metrics import pairwise_distances\n",
        "import requests\n",
        "from PIL import ImageFile\n",
        "import plotly.figure_factory as ff\n",
        "import plotly.graph_objects as go\n",
        "import plotly.express as px\n",
        "from IPython.display import display, Image\n",
        "\n",
        "ImageFile.LOAD_TRUNCATED_IMAGES = True\n",
        "\n",
        "fashion_df = pd.read_csv(\"fashion.csv\")\n",
        "\n",
        "apparel_boys = fashion_df[fashion_df['Gender'] == 'Boys']\n",
        "apparel_girls = fashion_df[fashion_df['Gender'] == 'Girls']\n",
        "footwear_men = fashion_df[fashion_df['Gender'] == 'Men']\n",
        "footwear_women = fashion_df[fashion_df['Gender'] == 'Women']\n",
        "\n",
        "img_width, img_height = 224, 224\n",
        "\n"
      ]
    }
  ]
}